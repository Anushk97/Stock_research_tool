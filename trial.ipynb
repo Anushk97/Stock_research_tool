{
 "cells": [
  {
   "cell_type": "code",
   "execution_count": 2,
   "metadata": {},
   "outputs": [],
   "source": [
    "from bs4 import BeautifulSoup\n",
    "from urllib.request import urlopen, Request\n",
    "import pandas as pd\n",
    "from datetime import date, timedelta\n",
    "import openai\n",
    "import time"
   ]
  },
  {
   "cell_type": "code",
   "execution_count": 36,
   "metadata": {},
   "outputs": [],
   "source": [
    "stock = 'META'\n",
    "news = {}\n",
    "\n",
    "url = f'https://finviz.com/quote.ashx?t={stock}&p=d'\n",
    "request = Request(url=url, headers={'user-agent': 'news_scraper'})\n",
    "response = urlopen(request)"
   ]
  },
  {
   "cell_type": "code",
   "execution_count": 37,
   "metadata": {},
   "outputs": [],
   "source": [
    "html = BeautifulSoup(response, features='html.parser')\n",
    "finviz_news_table = html.find(id='news-table')\n",
    "news[stock] = finviz_news_table\n",
    "\n",
    "# filter and store neede in news_parsed\n",
    "news_parsed = []\n",
    "for stock, news_item in news.items():\n",
    "    for row in news_item.findAll('tr'):\n",
    "        try:\n",
    "            headline = row.a.getText()\n",
    "            source = row.span.getText()\n",
    "            news_parsed.append([stock, headline])\n",
    "        except:\n",
    "            pass\n",
    "\n",
    "# convert to a dataframe for data analysis\n",
    "df = pd.DataFrame(news_parsed, columns=['Stock', 'Headline'])"
   ]
  },
  {
   "cell_type": "code",
   "execution_count": 38,
   "metadata": {},
   "outputs": [
    {
     "data": {
      "text/html": [
       "<div>\n",
       "<style scoped>\n",
       "    .dataframe tbody tr th:only-of-type {\n",
       "        vertical-align: middle;\n",
       "    }\n",
       "\n",
       "    .dataframe tbody tr th {\n",
       "        vertical-align: top;\n",
       "    }\n",
       "\n",
       "    .dataframe thead th {\n",
       "        text-align: right;\n",
       "    }\n",
       "</style>\n",
       "<table border=\"1\" class=\"dataframe\">\n",
       "  <thead>\n",
       "    <tr style=\"text-align: right;\">\n",
       "      <th></th>\n",
       "      <th>Stock</th>\n",
       "      <th>Headline</th>\n",
       "    </tr>\n",
       "  </thead>\n",
       "  <tbody>\n",
       "    <tr>\n",
       "      <th>0</th>\n",
       "      <td>META</td>\n",
       "      <td>Magnificent Seven Stocks: Nvidia Stock Extends...</td>\n",
       "    </tr>\n",
       "    <tr>\n",
       "      <th>1</th>\n",
       "      <td>META</td>\n",
       "      <td>Is Meta Stock A Buy? AI Push Continues Followi...</td>\n",
       "    </tr>\n",
       "    <tr>\n",
       "      <th>2</th>\n",
       "      <td>META</td>\n",
       "      <td>Here is What to Know Beyond Why Meta Platforms...</td>\n",
       "    </tr>\n",
       "    <tr>\n",
       "      <th>3</th>\n",
       "      <td>META</td>\n",
       "      <td>Ralph Lauren Corporation (NYSE:RL) Q4 2024 Ear...</td>\n",
       "    </tr>\n",
       "    <tr>\n",
       "      <th>4</th>\n",
       "      <td>META</td>\n",
       "      <td>Get Ahead of the Curve: 7 Undervalued Growth S...</td>\n",
       "    </tr>\n",
       "    <tr>\n",
       "      <th>...</th>\n",
       "      <td>...</td>\n",
       "      <td>...</td>\n",
       "    </tr>\n",
       "    <tr>\n",
       "      <th>95</th>\n",
       "      <td>META</td>\n",
       "      <td>Dow Jones breaches 40,000, Walmart earnings, M...</td>\n",
       "    </tr>\n",
       "    <tr>\n",
       "      <th>96</th>\n",
       "      <td>META</td>\n",
       "      <td>Stream Dream Team: 3 Media Stocks Conquering t...</td>\n",
       "    </tr>\n",
       "    <tr>\n",
       "      <th>97</th>\n",
       "      <td>META</td>\n",
       "      <td>David Rolfe's Strategic Shifts in Q1 2024: A C...</td>\n",
       "    </tr>\n",
       "    <tr>\n",
       "      <th>98</th>\n",
       "      <td>META</td>\n",
       "      <td>Is Meta Stock A Buy? Shares Push Near Key Leve...</td>\n",
       "    </tr>\n",
       "    <tr>\n",
       "      <th>99</th>\n",
       "      <td>META</td>\n",
       "      <td>Market Chatter: Meta Platforms' Threads Testin...</td>\n",
       "    </tr>\n",
       "  </tbody>\n",
       "</table>\n",
       "<p>100 rows × 2 columns</p>\n",
       "</div>"
      ],
      "text/plain": [
       "   Stock                                           Headline\n",
       "0   META  Magnificent Seven Stocks: Nvidia Stock Extends...\n",
       "1   META  Is Meta Stock A Buy? AI Push Continues Followi...\n",
       "2   META  Here is What to Know Beyond Why Meta Platforms...\n",
       "3   META  Ralph Lauren Corporation (NYSE:RL) Q4 2024 Ear...\n",
       "4   META  Get Ahead of the Curve: 7 Undervalued Growth S...\n",
       "..   ...                                                ...\n",
       "95  META  Dow Jones breaches 40,000, Walmart earnings, M...\n",
       "96  META  Stream Dream Team: 3 Media Stocks Conquering t...\n",
       "97  META  David Rolfe's Strategic Shifts in Q1 2024: A C...\n",
       "98  META  Is Meta Stock A Buy? Shares Push Near Key Leve...\n",
       "99  META  Market Chatter: Meta Platforms' Threads Testin...\n",
       "\n",
       "[100 rows x 2 columns]"
      ]
     },
     "execution_count": 38,
     "metadata": {},
     "output_type": "execute_result"
    }
   ],
   "source": [
    "df"
   ]
  },
  {
   "cell_type": "code",
   "execution_count": 30,
   "metadata": {},
   "outputs": [
    {
     "data": {
      "text/plain": [
       "\"Elon Musk says new tariffs on Chinese EVs are 'not good'Aristotle Atlantic's Focus Growth Composite Sold Tesla (TSLA) due to Deteriorating FundamentalsChinas Cheap EVs Arent a Threat to Tesla, Ford, and GM. Heres What Is.Elon Musk denies that SpaceX may make a tender offer valuing it at $200 billionTesla reportedly cuts Model Y production at Shanghai plantStock market, ether ETF, Tesla Model Y production: 3 ThingsHere is What to Know Beyond Why Tesla, Inc. (TSLA) is a Trending StockTesla has slashed production of its best-selling EV in ChinaPrediction: These Could Be the Best-Performing EV Stocks Through 2030Tesla Cuts Model Y Production in China, Report Says. Competition Is Raging.3 AI Stocks to Buy Now: May 20247 Blue-Chip Stocks to Boot From Your Portfolio ASAPElon Musk predicts jobs will become kinda like a hobby: The AI and robots will provide any goods and services you wantTesla CEO Elon Musk opposes US tariffs on Chinese electric vehiclesTesla's Musk is not the only CEO testing new compensation limitsThe EV Investor's Survival Guide: 7 Stocks to Buy Now for Long-Term RichesTesla is building a huge battery factory in Shanghai even as trade tensions riseTesla's Autopilot safety, Biden's EV tariffs, and BMW's labor problem: Autos news roundupTesla CEO Elon Musk rejects Bidens not good tariffs on Chinese EVs: Neither Tesla nor I asked for these tariffsMusk's xAI nears close of deal valuing startup at US$24 billionNvidia, Deckers, Lucid Group rise premarket; Intuit, Workday fallTesla skips delivery target of 20 million EVs by 2030 in latest impact reportTesla slashes Model Y production in Shanghai, data showsWhat Chinas $10,000 EVs Mean for Ford, GM, and TeslaTesla Posts Jobs for AI, Autopilot After Weeks of Staff CutsMusk Won't Say If He's Still Committed to Low-Cost Tesla EVPepsiCo to add 50 Tesla electric semi-trucks to California fleetNvidia CEO Jensen Huang Touts Auto Industry's AI Data Center Demand, Says Tesla 'Far Ahead'The Time Traveler's Portfolio: 3 Stocks to Buy Now for Massive Returns by 2034Elon Musk's dystopian AI future: Fewer jobs, more money, but no purpose in lifeElon Musk Says Tesla Can Compete With China Without TariffsNvidia CEO says Tesla 'far ahead' in self-driving tech as autonomous driving efforts boost chip demandValue of Nvidia jumps by as much as Britains most valuable companyDear NVDA Stock Fans, Mark Your Calendars for June 10Magnificent Seven Stocks: Nvidia Stock Soars 10% On Earnings; Apple, Tesla SlideElon Musk attacks Bidens tariffs on Chinese electric carsWhy Rivian, Polestar, and Lucid Stocks All Dropped TodayNvidia earnings, Jamie Dimon weighs in on economy: Morning BriefTesla Stock FallsPMI data, Treasury yields, Musk pushes limits: CatalystsTesla investor Scottish Mortgage to back Musk's $56 billion pay packageElon Musk says he's against Biden tariffs on Chinese EV's3 Chinese EV Stocks That Could Be the Next BYD: May EditionElon Musk pushing boundaries of CEO compensation packagesWhy Is Tesla (TSLA) Up 11.1% Since Last Earnings Report?Nvidia Stock Split Alert: What a 10-for-1 NVDA Split Means for YouRivian Lost $38,000 Per Vehicle Delivered In Q1. Is Rivian Stock A Buy Or A Sell?Is Tesla Stock A Buy Or A Sell As Longtime Bull Believes 'Elon Needs Tesla More Than Ever Before'?Teslas are still pretty easy to steal'Long runway' for Tesla as drivers wary of self-driving tech\""
      ]
     },
     "execution_count": 30,
     "metadata": {},
     "output_type": "execute_result"
    }
   ],
   "source": [
    "combine_text = ''.join(df['Headline'][:50].tolist())\n",
    "combine_text"
   ]
  },
  {
   "cell_type": "code",
   "execution_count": 31,
   "metadata": {},
   "outputs": [
    {
     "data": {
      "text/plain": [
       "str"
      ]
     },
     "execution_count": 31,
     "metadata": {},
     "output_type": "execute_result"
    }
   ],
   "source": [
    "type(combine_text)"
   ]
  },
  {
   "cell_type": "code",
   "execution_count": 32,
   "metadata": {},
   "outputs": [
    {
     "name": "stdout",
     "output_type": "stream",
     "text": [
      "The sentiment in these headlines ranges from negative to positive. Several headlines comment on issues facing Tesla and Elon Musk, such as tariffs on Chinese electric vehicles or an alleged decrease in Model Y production, giving a negative connotation. However, many headlines highlight Tesla's progress, like its new manufacturing plans and advancements in AI or self-driving technology, which suggest a more positive sentiment. Others focus on how Tesla's performance compares with that of competitors such as Nvdia and Rivian or the state of the EV market in general, providing a neutral, informational tone. Overall, the sentiment appears to be mixed, reflecting the complexities and challenges in the current dynamic EV industry including myriad issues Musk and Tesla face.\n"
     ]
    }
   ],
   "source": [
    "openai.api_key = '' \n",
    "\n",
    "completion = openai.chat.completions.create(\n",
    "model=\"gpt-4\",\n",
    "messages=[\n",
    "    {\n",
    "        \"role\": \"user\",\n",
    "        \"content\": f\"Please analyse the sentiment of the {combine_text} in one line\"\n",
    "    },\n",
    "\n",
    "],\n",
    ")\n",
    "# print(completion.choices[0].message.content)\n",
    "\n",
    "response = completion.choices[0].message.content\n",
    "print(response)"
   ]
  },
  {
   "cell_type": "code",
   "execution_count": null,
   "metadata": {},
   "outputs": [],
   "source": []
  }
 ],
 "metadata": {
  "kernelspec": {
   "display_name": "Python 3",
   "language": "python",
   "name": "python3"
  },
  "language_info": {
   "codemirror_mode": {
    "name": "ipython",
    "version": 3
   },
   "file_extension": ".py",
   "mimetype": "text/x-python",
   "name": "python",
   "nbconvert_exporter": "python",
   "pygments_lexer": "ipython3",
   "version": "3.11.0"
  }
 },
 "nbformat": 4,
 "nbformat_minor": 2
}
